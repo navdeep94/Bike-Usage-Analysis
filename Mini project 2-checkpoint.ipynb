{
 "cells": [
  {
   "cell_type": "code",
   "execution_count": 22,
   "id": "727f46ba-67f2-44be-8419-744ec43f7dac",
   "metadata": {},
   "outputs": [
    {
     "data": {
      "text/plain": [
       "DataTransformerRegistry.enable('data_server')"
      ]
     },
     "execution_count": 22,
     "metadata": {},
     "output_type": "execute_result"
    }
   ],
   "source": [
    "## Loading Libraries\n",
    "import pandas as pd\n",
    "import altair as alt\n",
    "import numpy as np\n",
    "from datetime import datetime\n",
    "# Save a vega-lite spec and a PNG blob for each plot in the notebook\n",
    "alt.renderers.enable('mimetype')\n",
    "# Handle large data sets without embedding them in the notebook\n",
    "alt.data_transformers.enable('data_server')\n",
    "alt.data_transformers.disable_max_rows()"
   ]
  },
  {
   "cell_type": "markdown",
   "id": "16b53b21-ac27-4554-874a-1e75e239ae9e",
   "metadata": {},
   "source": [
    "# Describe your dataset \n"
   ]
  },
  {
   "cell_type": "markdown",
   "id": "8b1aec71-3eb7-4133-bb67-122840478c61",
   "metadata": {},
   "source": [
    "*  Lyft Bikes and Scooters, LLC (“Bikeshare”) operates New York City’s Citi Bike bicycle sharing service. Bikeshare is committed to supporting bicycling as an alternative transportation option. As part of that commitment, Bikeshare makes certain Citi Bike system data (“Data”) available to the public.\n",
    "* This data contains bikers trip information such as bike trip duration, start/stop time and date, start/stop station name and location, user types, date of birth, and gender.\n",
    "* The data was collected in 2017\n",
    "* The purpose of our dataset is for learning.\n",
    "* It looks like historical records digitized."
   ]
  },
  {
   "cell_type": "markdown",
   "id": "bbecb364-560d-4003-adb4-42ea5b382c2f",
   "metadata": {},
   "source": [
    "# Load the dataset"
   ]
  },
  {
   "cell_type": "code",
   "execution_count": 23,
   "id": "023ce160-ec0d-4c55-9fbc-e312bfa86cd7",
   "metadata": {},
   "outputs": [
    {
     "data": {
      "text/html": [
       "<div>\n",
       "<style scoped>\n",
       "    .dataframe tbody tr th:only-of-type {\n",
       "        vertical-align: middle;\n",
       "    }\n",
       "\n",
       "    .dataframe tbody tr th {\n",
       "        vertical-align: top;\n",
       "    }\n",
       "\n",
       "    .dataframe thead th {\n",
       "        text-align: right;\n",
       "    }\n",
       "</style>\n",
       "<table border=\"1\" class=\"dataframe\">\n",
       "  <thead>\n",
       "    <tr style=\"text-align: right;\">\n",
       "      <th></th>\n",
       "      <th>Trip Duration</th>\n",
       "      <th>Start Time</th>\n",
       "      <th>Stop Time</th>\n",
       "      <th>Start Station ID</th>\n",
       "      <th>Start Station Name</th>\n",
       "      <th>Start Station Latitude</th>\n",
       "      <th>Start Station Longitude</th>\n",
       "      <th>End Station ID</th>\n",
       "      <th>End Station Name</th>\n",
       "      <th>End Station Latitude</th>\n",
       "      <th>End Station Longitude</th>\n",
       "      <th>Bike ID</th>\n",
       "      <th>User Type</th>\n",
       "      <th>Birth Year</th>\n",
       "      <th>Gender</th>\n",
       "    </tr>\n",
       "  </thead>\n",
       "  <tbody>\n",
       "    <tr>\n",
       "      <th>0</th>\n",
       "      <td>680</td>\n",
       "      <td>2017-01-01 00:00:21</td>\n",
       "      <td>2017-01-01 00:11:41</td>\n",
       "      <td>3226</td>\n",
       "      <td>W 82 St &amp; Central Park West</td>\n",
       "      <td>40.782750</td>\n",
       "      <td>-73.971370</td>\n",
       "      <td>3165</td>\n",
       "      <td>Central Park West &amp; W 72 St</td>\n",
       "      <td>40.775794</td>\n",
       "      <td>-73.976206</td>\n",
       "      <td>25542</td>\n",
       "      <td>Subscriber</td>\n",
       "      <td>1965.0</td>\n",
       "      <td>2</td>\n",
       "    </tr>\n",
       "    <tr>\n",
       "      <th>1</th>\n",
       "      <td>1282</td>\n",
       "      <td>2017-01-01 00:00:45</td>\n",
       "      <td>2017-01-01 00:22:08</td>\n",
       "      <td>3263</td>\n",
       "      <td>Cooper Square &amp; E 7 St</td>\n",
       "      <td>40.729236</td>\n",
       "      <td>-73.990868</td>\n",
       "      <td>498</td>\n",
       "      <td>Broadway &amp; W 32 St</td>\n",
       "      <td>40.748549</td>\n",
       "      <td>-73.988084</td>\n",
       "      <td>21136</td>\n",
       "      <td>Subscriber</td>\n",
       "      <td>1987.0</td>\n",
       "      <td>2</td>\n",
       "    </tr>\n",
       "    <tr>\n",
       "      <th>2</th>\n",
       "      <td>648</td>\n",
       "      <td>2017-01-01 00:00:57</td>\n",
       "      <td>2017-01-01 00:11:46</td>\n",
       "      <td>3143</td>\n",
       "      <td>5 Ave &amp; E 78 St</td>\n",
       "      <td>40.776829</td>\n",
       "      <td>-73.963888</td>\n",
       "      <td>3152</td>\n",
       "      <td>3 Ave &amp; E 71 St</td>\n",
       "      <td>40.768737</td>\n",
       "      <td>-73.961199</td>\n",
       "      <td>18147</td>\n",
       "      <td>Customer</td>\n",
       "      <td>NaN</td>\n",
       "      <td>0</td>\n",
       "    </tr>\n",
       "    <tr>\n",
       "      <th>3</th>\n",
       "      <td>631</td>\n",
       "      <td>2017-01-01 00:01:10</td>\n",
       "      <td>2017-01-01 00:11:42</td>\n",
       "      <td>3143</td>\n",
       "      <td>5 Ave &amp; E 78 St</td>\n",
       "      <td>40.776829</td>\n",
       "      <td>-73.963888</td>\n",
       "      <td>3152</td>\n",
       "      <td>3 Ave &amp; E 71 St</td>\n",
       "      <td>40.768737</td>\n",
       "      <td>-73.961199</td>\n",
       "      <td>21211</td>\n",
       "      <td>Customer</td>\n",
       "      <td>NaN</td>\n",
       "      <td>0</td>\n",
       "    </tr>\n",
       "    <tr>\n",
       "      <th>4</th>\n",
       "      <td>621</td>\n",
       "      <td>2017-01-01 00:01:25</td>\n",
       "      <td>2017-01-01 00:11:47</td>\n",
       "      <td>3143</td>\n",
       "      <td>5 Ave &amp; E 78 St</td>\n",
       "      <td>40.776829</td>\n",
       "      <td>-73.963888</td>\n",
       "      <td>3152</td>\n",
       "      <td>3 Ave &amp; E 71 St</td>\n",
       "      <td>40.768737</td>\n",
       "      <td>-73.961199</td>\n",
       "      <td>26819</td>\n",
       "      <td>Customer</td>\n",
       "      <td>NaN</td>\n",
       "      <td>0</td>\n",
       "    </tr>\n",
       "  </tbody>\n",
       "</table>\n",
       "</div>"
      ],
      "text/plain": [
       "   Trip Duration           Start Time            Stop Time  Start Station ID  \\\n",
       "0            680  2017-01-01 00:00:21  2017-01-01 00:11:41              3226   \n",
       "1           1282  2017-01-01 00:00:45  2017-01-01 00:22:08              3263   \n",
       "2            648  2017-01-01 00:00:57  2017-01-01 00:11:46              3143   \n",
       "3            631  2017-01-01 00:01:10  2017-01-01 00:11:42              3143   \n",
       "4            621  2017-01-01 00:01:25  2017-01-01 00:11:47              3143   \n",
       "\n",
       "            Start Station Name  Start Station Latitude  \\\n",
       "0  W 82 St & Central Park West               40.782750   \n",
       "1       Cooper Square & E 7 St               40.729236   \n",
       "2              5 Ave & E 78 St               40.776829   \n",
       "3              5 Ave & E 78 St               40.776829   \n",
       "4              5 Ave & E 78 St               40.776829   \n",
       "\n",
       "   Start Station Longitude  End Station ID             End Station Name  \\\n",
       "0               -73.971370            3165  Central Park West & W 72 St   \n",
       "1               -73.990868             498           Broadway & W 32 St   \n",
       "2               -73.963888            3152              3 Ave & E 71 St   \n",
       "3               -73.963888            3152              3 Ave & E 71 St   \n",
       "4               -73.963888            3152              3 Ave & E 71 St   \n",
       "\n",
       "   End Station Latitude  End Station Longitude  Bike ID   User Type  \\\n",
       "0             40.775794             -73.976206    25542  Subscriber   \n",
       "1             40.748549             -73.988084    21136  Subscriber   \n",
       "2             40.768737             -73.961199    18147    Customer   \n",
       "3             40.768737             -73.961199    21211    Customer   \n",
       "4             40.768737             -73.961199    26819    Customer   \n",
       "\n",
       "   Birth Year  Gender  \n",
       "0      1965.0       2  \n",
       "1      1987.0       2  \n",
       "2         NaN       0  \n",
       "3         NaN       0  \n",
       "4         NaN       0  "
      ]
     },
     "execution_count": 23,
     "metadata": {},
     "output_type": "execute_result"
    }
   ],
   "source": [
    "df = pd.read_csv(\"201701-citibike-tripdata.csv\")\n",
    "df.head()"
   ]
  },
  {
   "cell_type": "markdown",
   "id": "d1089085-4026-4dea-aaea-bb3dc725703f",
   "metadata": {},
   "source": [
    "# Explore your dataset"
   ]
  },
  {
   "cell_type": "code",
   "execution_count": 24,
   "id": "4f76cfe3-ee6f-417c-a0b2-748e7c14a956",
   "metadata": {},
   "outputs": [
    {
     "data": {
      "text/html": [
       "<div>\n",
       "<style scoped>\n",
       "    .dataframe tbody tr th:only-of-type {\n",
       "        vertical-align: middle;\n",
       "    }\n",
       "\n",
       "    .dataframe tbody tr th {\n",
       "        vertical-align: top;\n",
       "    }\n",
       "\n",
       "    .dataframe thead th {\n",
       "        text-align: right;\n",
       "    }\n",
       "</style>\n",
       "<table border=\"1\" class=\"dataframe\">\n",
       "  <thead>\n",
       "    <tr style=\"text-align: right;\">\n",
       "      <th></th>\n",
       "      <th>Trip Duration</th>\n",
       "      <th>Start Station ID</th>\n",
       "      <th>Start Station Latitude</th>\n",
       "      <th>Start Station Longitude</th>\n",
       "      <th>End Station ID</th>\n",
       "      <th>End Station Latitude</th>\n",
       "      <th>End Station Longitude</th>\n",
       "      <th>Bike ID</th>\n",
       "      <th>Birth Year</th>\n",
       "      <th>Gender</th>\n",
       "    </tr>\n",
       "  </thead>\n",
       "  <tbody>\n",
       "    <tr>\n",
       "      <th>count</th>\n",
       "      <td>7.266760e+05</td>\n",
       "      <td>726676.000000</td>\n",
       "      <td>726676.000000</td>\n",
       "      <td>726676.000000</td>\n",
       "      <td>726676.000000</td>\n",
       "      <td>726676.000000</td>\n",
       "      <td>726676.000000</td>\n",
       "      <td>726676.000000</td>\n",
       "      <td>697600.000000</td>\n",
       "      <td>726676.000000</td>\n",
       "    </tr>\n",
       "    <tr>\n",
       "      <th>mean</th>\n",
       "      <td>7.778989e+02</td>\n",
       "      <td>1222.917630</td>\n",
       "      <td>40.737372</td>\n",
       "      <td>-73.984795</td>\n",
       "      <td>1197.252902</td>\n",
       "      <td>40.737077</td>\n",
       "      <td>-73.985133</td>\n",
       "      <td>21713.053902</td>\n",
       "      <td>1977.122481</td>\n",
       "      <td>1.166728</td>\n",
       "    </tr>\n",
       "    <tr>\n",
       "      <th>std</th>\n",
       "      <td>1.124683e+04</td>\n",
       "      <td>1277.955252</td>\n",
       "      <td>0.072596</td>\n",
       "      <td>0.123776</td>\n",
       "      <td>1266.085070</td>\n",
       "      <td>0.072474</td>\n",
       "      <td>0.123782</td>\n",
       "      <td>4199.313576</td>\n",
       "      <td>11.925020</td>\n",
       "      <td>0.475971</td>\n",
       "    </tr>\n",
       "    <tr>\n",
       "      <th>min</th>\n",
       "      <td>6.100000e+01</td>\n",
       "      <td>72.000000</td>\n",
       "      <td>0.000000</td>\n",
       "      <td>-74.031372</td>\n",
       "      <td>72.000000</td>\n",
       "      <td>0.000000</td>\n",
       "      <td>-74.033459</td>\n",
       "      <td>14529.000000</td>\n",
       "      <td>1885.000000</td>\n",
       "      <td>0.000000</td>\n",
       "    </tr>\n",
       "    <tr>\n",
       "      <th>25%</th>\n",
       "      <td>3.310000e+02</td>\n",
       "      <td>358.000000</td>\n",
       "      <td>40.720874</td>\n",
       "      <td>-73.995299</td>\n",
       "      <td>356.000000</td>\n",
       "      <td>40.720828</td>\n",
       "      <td>-73.995960</td>\n",
       "      <td>17859.000000</td>\n",
       "      <td>1969.000000</td>\n",
       "      <td>1.000000</td>\n",
       "    </tr>\n",
       "    <tr>\n",
       "      <th>50%</th>\n",
       "      <td>5.260000e+02</td>\n",
       "      <td>482.000000</td>\n",
       "      <td>40.739355</td>\n",
       "      <td>-73.987167</td>\n",
       "      <td>479.000000</td>\n",
       "      <td>40.739323</td>\n",
       "      <td>-73.987586</td>\n",
       "      <td>21295.000000</td>\n",
       "      <td>1979.000000</td>\n",
       "      <td>1.000000</td>\n",
       "    </tr>\n",
       "    <tr>\n",
       "      <th>75%</th>\n",
       "      <td>8.600000e+02</td>\n",
       "      <td>3092.000000</td>\n",
       "      <td>40.755103</td>\n",
       "      <td>-73.976682</td>\n",
       "      <td>3078.000000</td>\n",
       "      <td>40.755003</td>\n",
       "      <td>-73.976806</td>\n",
       "      <td>25803.000000</td>\n",
       "      <td>1987.000000</td>\n",
       "      <td>1.000000</td>\n",
       "    </tr>\n",
       "    <tr>\n",
       "      <th>max</th>\n",
       "      <td>5.325688e+06</td>\n",
       "      <td>3446.000000</td>\n",
       "      <td>40.804213</td>\n",
       "      <td>0.000000</td>\n",
       "      <td>3447.000000</td>\n",
       "      <td>40.804213</td>\n",
       "      <td>0.000000</td>\n",
       "      <td>27325.000000</td>\n",
       "      <td>2000.000000</td>\n",
       "      <td>2.000000</td>\n",
       "    </tr>\n",
       "  </tbody>\n",
       "</table>\n",
       "</div>"
      ],
      "text/plain": [
       "       Trip Duration  Start Station ID  Start Station Latitude  \\\n",
       "count   7.266760e+05     726676.000000           726676.000000   \n",
       "mean    7.778989e+02       1222.917630               40.737372   \n",
       "std     1.124683e+04       1277.955252                0.072596   \n",
       "min     6.100000e+01         72.000000                0.000000   \n",
       "25%     3.310000e+02        358.000000               40.720874   \n",
       "50%     5.260000e+02        482.000000               40.739355   \n",
       "75%     8.600000e+02       3092.000000               40.755103   \n",
       "max     5.325688e+06       3446.000000               40.804213   \n",
       "\n",
       "       Start Station Longitude  End Station ID  End Station Latitude  \\\n",
       "count            726676.000000   726676.000000         726676.000000   \n",
       "mean                -73.984795     1197.252902             40.737077   \n",
       "std                   0.123776     1266.085070              0.072474   \n",
       "min                 -74.031372       72.000000              0.000000   \n",
       "25%                 -73.995299      356.000000             40.720828   \n",
       "50%                 -73.987167      479.000000             40.739323   \n",
       "75%                 -73.976682     3078.000000             40.755003   \n",
       "max                   0.000000     3447.000000             40.804213   \n",
       "\n",
       "       End Station Longitude        Bike ID     Birth Year         Gender  \n",
       "count          726676.000000  726676.000000  697600.000000  726676.000000  \n",
       "mean              -73.985133   21713.053902    1977.122481       1.166728  \n",
       "std                 0.123782    4199.313576      11.925020       0.475971  \n",
       "min               -74.033459   14529.000000    1885.000000       0.000000  \n",
       "25%               -73.995960   17859.000000    1969.000000       1.000000  \n",
       "50%               -73.987586   21295.000000    1979.000000       1.000000  \n",
       "75%               -73.976806   25803.000000    1987.000000       1.000000  \n",
       "max                 0.000000   27325.000000    2000.000000       2.000000  "
      ]
     },
     "execution_count": 24,
     "metadata": {},
     "output_type": "execute_result"
    }
   ],
   "source": [
    "df.describe()"
   ]
  },
  {
   "cell_type": "markdown",
   "id": "20b78a4b-fac0-44a5-a77f-aa277295e4b1",
   "metadata": {},
   "source": [
    "The maximum of the trip duration column seem like an outlier. It could be that the user forgot to return the bike to the station"
   ]
  },
  {
   "cell_type": "code",
   "execution_count": 25,
   "id": "2f458b22-dc36-4085-839c-4298ee25bd5f",
   "metadata": {},
   "outputs": [
    {
     "data": {
      "text/plain": [
       "Trip Duration              0.000000\n",
       "Start Time                 0.000000\n",
       "Stop Time                  0.000000\n",
       "Start Station ID           0.000000\n",
       "Start Station Name         0.000000\n",
       "Start Station Latitude     0.000000\n",
       "Start Station Longitude    0.000000\n",
       "End Station ID             0.000000\n",
       "End Station Name           0.000000\n",
       "End Station Latitude       0.000000\n",
       "End Station Longitude      0.000000\n",
       "Bike ID                    0.000000\n",
       "User Type                  0.439398\n",
       "Birth Year                 4.001233\n",
       "Gender                     0.000000\n",
       "dtype: float64"
      ]
     },
     "execution_count": 25,
     "metadata": {},
     "output_type": "execute_result"
    }
   ],
   "source": [
    "# percentage of missing values\n",
    "df.isna().sum()/len(df) * 100"
   ]
  },
  {
   "cell_type": "markdown",
   "id": "25daaa7d-254f-4be6-bd15-65471ea4b97b",
   "metadata": {},
   "source": [
    "There are only 4% of missing values"
   ]
  },
  {
   "cell_type": "code",
   "execution_count": 26,
   "id": "ef140db6-24f1-4dfe-8ea7-173120de43ee",
   "metadata": {},
   "outputs": [
    {
     "name": "stdout",
     "output_type": "stream",
     "text": [
      "<class 'pandas.core.frame.DataFrame'>\n",
      "RangeIndex: 726676 entries, 0 to 726675\n",
      "Data columns (total 15 columns):\n",
      " #   Column                   Non-Null Count   Dtype  \n",
      "---  ------                   --------------   -----  \n",
      " 0   Trip Duration            726676 non-null  int64  \n",
      " 1   Start Time               726676 non-null  object \n",
      " 2   Stop Time                726676 non-null  object \n",
      " 3   Start Station ID         726676 non-null  int64  \n",
      " 4   Start Station Name       726676 non-null  object \n",
      " 5   Start Station Latitude   726676 non-null  float64\n",
      " 6   Start Station Longitude  726676 non-null  float64\n",
      " 7   End Station ID           726676 non-null  int64  \n",
      " 8   End Station Name         726676 non-null  object \n",
      " 9   End Station Latitude     726676 non-null  float64\n",
      " 10  End Station Longitude    726676 non-null  float64\n",
      " 11  Bike ID                  726676 non-null  int64  \n",
      " 12  User Type                723483 non-null  object \n",
      " 13  Birth Year               697600 non-null  float64\n",
      " 14  Gender                   726676 non-null  int64  \n",
      "dtypes: float64(5), int64(5), object(5)\n",
      "memory usage: 83.2+ MB\n"
     ]
    }
   ],
   "source": [
    "df.info()"
   ]
  },
  {
   "cell_type": "code",
   "execution_count": 27,
   "id": "181b8e8a-4ce1-4b57-87c1-b2ce68d5bd7f",
   "metadata": {},
   "outputs": [
    {
     "data": {
      "text/plain": [
       "Subscriber    700465\n",
       "Customer       23018\n",
       "Name: User Type, dtype: int64"
      ]
     },
     "execution_count": 27,
     "metadata": {},
     "output_type": "execute_result"
    }
   ],
   "source": [
    "df[\"User Type\"].value_counts()"
   ]
  },
  {
   "cell_type": "code",
   "execution_count": 28,
   "id": "f9901c47-7634-4eda-bd6d-8c24e2cad784",
   "metadata": {},
   "outputs": [
    {
     "data": {
      "text/plain": [
       "1    541849\n",
       "2    152992\n",
       "0     31835\n",
       "Name: Gender, dtype: int64"
      ]
     },
     "execution_count": 28,
     "metadata": {},
     "output_type": "execute_result"
    }
   ],
   "source": [
    "df[\"Gender\"].value_counts() ## 0 is unknown, 1 is men, 2 is women"
   ]
  },
  {
   "cell_type": "markdown",
   "id": "07ca364c-4beb-400b-a377-a661799e63fc",
   "metadata": {},
   "source": [
    "# Initial thoughts"
   ]
  },
  {
   "cell_type": "markdown",
   "id": "cb5e20f5-520f-457f-b84b-30798b85c79c",
   "metadata": {},
   "source": [
    "* There seems to be an outlier in Trip Duration and Birth Year Column\n",
    "* There are nan values in User Type and Birth Year columns in the dataset\n",
    "* Unbalanced User Type Classes\n",
    "* Unbalanced Gender Classes"
   ]
  },
  {
   "cell_type": "markdown",
   "id": "09766e12-d768-406e-a786-c1beec54ec8b",
   "metadata": {},
   "source": [
    "# Wrangling"
   ]
  },
  {
   "cell_type": "code",
   "execution_count": 29,
   "id": "4d3baab0-4ba4-4e2a-a186-979054c1d1fc",
   "metadata": {},
   "outputs": [],
   "source": [
    "def remove_outlier(df_in, col_name):\n",
    "    q1 = df_in[col_name].quantile(0.25)\n",
    "    q3 = df_in[col_name].quantile(0.75)\n",
    "    iqr = q3-q1 #Interquartile range\n",
    "    fence_low  = q1-1.5*iqr\n",
    "    fence_high = q3+1.5*iqr\n",
    "    df_out = df_in.loc[(df_in[col_name] > fence_low) & (df_in[col_name] < fence_high)]\n",
    "    return df_out"
   ]
  },
  {
   "cell_type": "code",
   "execution_count": 30,
   "id": "5f80a5be-aedf-4886-86e9-bcd40544b8b4",
   "metadata": {},
   "outputs": [
    {
     "data": {
      "text/plain": [
       "Trip Duration              0.0\n",
       "Start Time                 0.0\n",
       "Stop Time                  0.0\n",
       "Start Station ID           0.0\n",
       "Start Station Name         0.0\n",
       "Start Station Latitude     0.0\n",
       "Start Station Longitude    0.0\n",
       "End Station ID             0.0\n",
       "End Station Name           0.0\n",
       "End Station Latitude       0.0\n",
       "End Station Longitude      0.0\n",
       "Bike ID                    0.0\n",
       "User Type                  0.0\n",
       "Birth Year                 0.0\n",
       "Gender                     0.0\n",
       "dtype: float64"
      ]
     },
     "execution_count": 30,
     "metadata": {},
     "output_type": "execute_result"
    }
   ],
   "source": [
    "# drop missing values\n",
    "df = df.dropna()\n",
    "df.isna().sum()/len(df) * 100"
   ]
  },
  {
   "cell_type": "code",
   "execution_count": 31,
   "id": "c45060ad-6d7d-4c62-b203-0de56b6f9b35",
   "metadata": {},
   "outputs": [
    {
     "data": {
      "text/plain": [
       "694412"
      ]
     },
     "execution_count": 31,
     "metadata": {},
     "output_type": "execute_result"
    }
   ],
   "source": [
    "len(df)"
   ]
  },
  {
   "cell_type": "code",
   "execution_count": 32,
   "id": "bda28f88-e8d9-403e-91ed-ea1862772ef5",
   "metadata": {},
   "outputs": [],
   "source": [
    "def day_part(x):\n",
    "    if (x>=0) & (x<6):\n",
    "        part = 'night'\n",
    "    elif (x>=6) & (x<12):\n",
    "        part = 'morning'\n",
    "    elif (x>=12) & (x<18):\n",
    "        part = 'afternoon'\n",
    "    else:\n",
    "        part = 'evening'\n",
    "    return part\n"
   ]
  },
  {
   "cell_type": "code",
   "execution_count": 33,
   "id": "ab25a969-8a2f-4fb1-979c-0dae41f880d6",
   "metadata": {},
   "outputs": [],
   "source": [
    "df[\"Start Time\"]=pd.to_datetime(df[\"Start Time\"])\n",
    "df[\"Stop Time\"]=pd.to_datetime(df[\"Stop Time\"])\n",
    "df[\"Age\"]=2017-df[\"Birth Year\"]\n",
    "df['hour'] = df[\"Start Time\"].dt.hour\n",
    "df[\"Start weekday\"] = df['Start Time'].dt.day_name()\n",
    "df['day_part'] = df[\"Start Time\"].dt.hour.map(day_part) \n",
    "\n"
   ]
  },
  {
   "cell_type": "code",
   "execution_count": 34,
   "id": "5659a261-199f-4894-8a0f-4026c10d3cf8",
   "metadata": {},
   "outputs": [],
   "source": [
    "# remove outliers\n",
    "df = remove_outlier(df, \"Trip Duration\")\n",
    "df = remove_outlier(df, \"Age\")"
   ]
  },
  {
   "cell_type": "code",
   "execution_count": 35,
   "id": "358b22ea-1346-4cf3-951e-a01c558bcdc3",
   "metadata": {},
   "outputs": [
    {
     "data": {
      "text/html": [
       "<div>\n",
       "<style scoped>\n",
       "    .dataframe tbody tr th:only-of-type {\n",
       "        vertical-align: middle;\n",
       "    }\n",
       "\n",
       "    .dataframe tbody tr th {\n",
       "        vertical-align: top;\n",
       "    }\n",
       "\n",
       "    .dataframe thead th {\n",
       "        text-align: right;\n",
       "    }\n",
       "</style>\n",
       "<table border=\"1\" class=\"dataframe\">\n",
       "  <thead>\n",
       "    <tr style=\"text-align: right;\">\n",
       "      <th></th>\n",
       "      <th>Trip Duration</th>\n",
       "      <th>Start Time</th>\n",
       "      <th>Stop Time</th>\n",
       "      <th>Start Station ID</th>\n",
       "      <th>Start Station Name</th>\n",
       "      <th>Start Station Latitude</th>\n",
       "      <th>Start Station Longitude</th>\n",
       "      <th>End Station ID</th>\n",
       "      <th>End Station Name</th>\n",
       "      <th>End Station Latitude</th>\n",
       "      <th>End Station Longitude</th>\n",
       "      <th>Bike ID</th>\n",
       "      <th>User Type</th>\n",
       "      <th>Birth Year</th>\n",
       "      <th>Gender</th>\n",
       "      <th>Age</th>\n",
       "      <th>hour</th>\n",
       "      <th>Start weekday</th>\n",
       "      <th>day_part</th>\n",
       "    </tr>\n",
       "  </thead>\n",
       "  <tbody>\n",
       "    <tr>\n",
       "      <th>0</th>\n",
       "      <td>680</td>\n",
       "      <td>2017-01-01 00:00:21</td>\n",
       "      <td>2017-01-01 00:11:41</td>\n",
       "      <td>3226</td>\n",
       "      <td>W 82 St &amp; Central Park West</td>\n",
       "      <td>40.782750</td>\n",
       "      <td>-73.971370</td>\n",
       "      <td>3165</td>\n",
       "      <td>Central Park West &amp; W 72 St</td>\n",
       "      <td>40.775794</td>\n",
       "      <td>-73.976206</td>\n",
       "      <td>25542</td>\n",
       "      <td>Subscriber</td>\n",
       "      <td>1965.0</td>\n",
       "      <td>2</td>\n",
       "      <td>52.0</td>\n",
       "      <td>0</td>\n",
       "      <td>Sunday</td>\n",
       "      <td>night</td>\n",
       "    </tr>\n",
       "    <tr>\n",
       "      <th>1</th>\n",
       "      <td>1282</td>\n",
       "      <td>2017-01-01 00:00:45</td>\n",
       "      <td>2017-01-01 00:22:08</td>\n",
       "      <td>3263</td>\n",
       "      <td>Cooper Square &amp; E 7 St</td>\n",
       "      <td>40.729236</td>\n",
       "      <td>-73.990868</td>\n",
       "      <td>498</td>\n",
       "      <td>Broadway &amp; W 32 St</td>\n",
       "      <td>40.748549</td>\n",
       "      <td>-73.988084</td>\n",
       "      <td>21136</td>\n",
       "      <td>Subscriber</td>\n",
       "      <td>1987.0</td>\n",
       "      <td>2</td>\n",
       "      <td>30.0</td>\n",
       "      <td>0</td>\n",
       "      <td>Sunday</td>\n",
       "      <td>night</td>\n",
       "    </tr>\n",
       "    <tr>\n",
       "      <th>5</th>\n",
       "      <td>666</td>\n",
       "      <td>2017-01-01 00:01:51</td>\n",
       "      <td>2017-01-01 00:12:57</td>\n",
       "      <td>3163</td>\n",
       "      <td>Central Park West &amp; W 68 St</td>\n",
       "      <td>40.773407</td>\n",
       "      <td>-73.977825</td>\n",
       "      <td>3163</td>\n",
       "      <td>Central Park West &amp; W 68 St</td>\n",
       "      <td>40.773407</td>\n",
       "      <td>-73.977825</td>\n",
       "      <td>16050</td>\n",
       "      <td>Subscriber</td>\n",
       "      <td>2000.0</td>\n",
       "      <td>1</td>\n",
       "      <td>17.0</td>\n",
       "      <td>0</td>\n",
       "      <td>Sunday</td>\n",
       "      <td>night</td>\n",
       "    </tr>\n",
       "    <tr>\n",
       "      <th>6</th>\n",
       "      <td>559</td>\n",
       "      <td>2017-01-01 00:05:00</td>\n",
       "      <td>2017-01-01 00:14:20</td>\n",
       "      <td>499</td>\n",
       "      <td>Broadway &amp; W 60 St</td>\n",
       "      <td>40.769155</td>\n",
       "      <td>-73.981918</td>\n",
       "      <td>479</td>\n",
       "      <td>9 Ave &amp; W 45 St</td>\n",
       "      <td>40.760193</td>\n",
       "      <td>-73.991255</td>\n",
       "      <td>27294</td>\n",
       "      <td>Subscriber</td>\n",
       "      <td>1973.0</td>\n",
       "      <td>1</td>\n",
       "      <td>44.0</td>\n",
       "      <td>0</td>\n",
       "      <td>Sunday</td>\n",
       "      <td>night</td>\n",
       "    </tr>\n",
       "    <tr>\n",
       "      <th>7</th>\n",
       "      <td>826</td>\n",
       "      <td>2017-01-01 00:05:37</td>\n",
       "      <td>2017-01-01 00:19:24</td>\n",
       "      <td>362</td>\n",
       "      <td>Broadway &amp; W 37 St</td>\n",
       "      <td>40.751726</td>\n",
       "      <td>-73.987535</td>\n",
       "      <td>445</td>\n",
       "      <td>E 10 St &amp; Avenue A</td>\n",
       "      <td>40.727408</td>\n",
       "      <td>-73.981420</td>\n",
       "      <td>23288</td>\n",
       "      <td>Subscriber</td>\n",
       "      <td>1977.0</td>\n",
       "      <td>2</td>\n",
       "      <td>40.0</td>\n",
       "      <td>0</td>\n",
       "      <td>Sunday</td>\n",
       "      <td>night</td>\n",
       "    </tr>\n",
       "  </tbody>\n",
       "</table>\n",
       "</div>"
      ],
      "text/plain": [
       "   Trip Duration          Start Time           Stop Time  Start Station ID  \\\n",
       "0            680 2017-01-01 00:00:21 2017-01-01 00:11:41              3226   \n",
       "1           1282 2017-01-01 00:00:45 2017-01-01 00:22:08              3263   \n",
       "5            666 2017-01-01 00:01:51 2017-01-01 00:12:57              3163   \n",
       "6            559 2017-01-01 00:05:00 2017-01-01 00:14:20               499   \n",
       "7            826 2017-01-01 00:05:37 2017-01-01 00:19:24               362   \n",
       "\n",
       "            Start Station Name  Start Station Latitude  \\\n",
       "0  W 82 St & Central Park West               40.782750   \n",
       "1       Cooper Square & E 7 St               40.729236   \n",
       "5  Central Park West & W 68 St               40.773407   \n",
       "6           Broadway & W 60 St               40.769155   \n",
       "7           Broadway & W 37 St               40.751726   \n",
       "\n",
       "   Start Station Longitude  End Station ID             End Station Name  \\\n",
       "0               -73.971370            3165  Central Park West & W 72 St   \n",
       "1               -73.990868             498           Broadway & W 32 St   \n",
       "5               -73.977825            3163  Central Park West & W 68 St   \n",
       "6               -73.981918             479              9 Ave & W 45 St   \n",
       "7               -73.987535             445           E 10 St & Avenue A   \n",
       "\n",
       "   End Station Latitude  End Station Longitude  Bike ID   User Type  \\\n",
       "0             40.775794             -73.976206    25542  Subscriber   \n",
       "1             40.748549             -73.988084    21136  Subscriber   \n",
       "5             40.773407             -73.977825    16050  Subscriber   \n",
       "6             40.760193             -73.991255    27294  Subscriber   \n",
       "7             40.727408             -73.981420    23288  Subscriber   \n",
       "\n",
       "   Birth Year  Gender   Age  hour Start weekday day_part  \n",
       "0      1965.0       2  52.0     0        Sunday    night  \n",
       "1      1987.0       2  30.0     0        Sunday    night  \n",
       "5      2000.0       1  17.0     0        Sunday    night  \n",
       "6      1973.0       1  44.0     0        Sunday    night  \n",
       "7      1977.0       2  40.0     0        Sunday    night  "
      ]
     },
     "execution_count": 35,
     "metadata": {},
     "output_type": "execute_result"
    }
   ],
   "source": [
    "df.head()"
   ]
  },
  {
   "cell_type": "code",
   "execution_count": 36,
   "id": "7c120797-8d4c-499a-ae71-5fc1a5c906f1",
   "metadata": {},
   "outputs": [],
   "source": [
    "df['day of week type'] = df['Start weekday'].apply(lambda x: 'weekend' if (x == \"Sunday\") | (x == \"Saturday\") else 'weekday')"
   ]
  },
  {
   "cell_type": "code",
   "execution_count": 37,
   "id": "56f4d1b5-12ad-492a-b243-bb9be7a5795b",
   "metadata": {},
   "outputs": [],
   "source": [
    "start_station_count = df.groupby('Start Station Name')[\"Start Station Name\"].size().reset_index(name='count')\n",
    "end_station_count = df.groupby('End Station Name')[\"End Station Name\"].size().reset_index(name='count')\n",
    "station_count = pd.merge(start_station_count, end_station_count,\n",
    "                         left_on='Start Station Name', right_on='End Station Name')\n",
    "station_count[\"sum count\"] = station_count[\"count_x\"]+station_count[\"count_y\"]"
   ]
  },
  {
   "cell_type": "code",
   "execution_count": 38,
   "id": "917c1540-3017-4def-98e9-7e7ba1ee6317",
   "metadata": {},
   "outputs": [],
   "source": [
    "station_count[\"sum count\"] = pd.to_numeric(station_count[\"sum count\"])\n",
    "top10_station_count = station_count.nlargest(10,'sum count')"
   ]
  },
  {
   "cell_type": "code",
   "execution_count": 39,
   "id": "462c706b-ba5e-414c-8380-f98640d575c2",
   "metadata": {},
   "outputs": [
    {
     "data": {
      "text/html": [
       "<div>\n",
       "<style scoped>\n",
       "    .dataframe tbody tr th:only-of-type {\n",
       "        vertical-align: middle;\n",
       "    }\n",
       "\n",
       "    .dataframe tbody tr th {\n",
       "        vertical-align: top;\n",
       "    }\n",
       "\n",
       "    .dataframe thead th {\n",
       "        text-align: right;\n",
       "    }\n",
       "</style>\n",
       "<table border=\"1\" class=\"dataframe\">\n",
       "  <thead>\n",
       "    <tr style=\"text-align: right;\">\n",
       "      <th></th>\n",
       "      <th>Start Station Name</th>\n",
       "      <th>End Station Name</th>\n",
       "      <th>count</th>\n",
       "    </tr>\n",
       "  </thead>\n",
       "  <tbody>\n",
       "    <tr>\n",
       "      <th>39126</th>\n",
       "      <td>E 7 St &amp; Avenue A</td>\n",
       "      <td>Cooper Square &amp; E 7 St</td>\n",
       "      <td>439</td>\n",
       "    </tr>\n",
       "    <tr>\n",
       "      <th>69842</th>\n",
       "      <td>W 21 St &amp; 6 Ave</td>\n",
       "      <td>9 Ave &amp; W 22 St</td>\n",
       "      <td>359</td>\n",
       "    </tr>\n",
       "    <tr>\n",
       "      <th>32365</th>\n",
       "      <td>E 33 St &amp; 2 Ave</td>\n",
       "      <td>W 33 St &amp; 7 Ave</td>\n",
       "      <td>313</td>\n",
       "    </tr>\n",
       "    <tr>\n",
       "      <th>47103</th>\n",
       "      <td>Greenwich Ave &amp; Charles St</td>\n",
       "      <td>Greenwich Ave &amp; Charles St</td>\n",
       "      <td>303</td>\n",
       "    </tr>\n",
       "    <tr>\n",
       "      <th>59205</th>\n",
       "      <td>Pershing Square North</td>\n",
       "      <td>E 24 St &amp; Park Ave S</td>\n",
       "      <td>300</td>\n",
       "    </tr>\n",
       "    <tr>\n",
       "      <th>59150</th>\n",
       "      <td>Pershing Square North</td>\n",
       "      <td>Broadway &amp; W 32 St</td>\n",
       "      <td>292</td>\n",
       "    </tr>\n",
       "    <tr>\n",
       "      <th>57250</th>\n",
       "      <td>N 6 St &amp; Bedford Ave</td>\n",
       "      <td>Wythe Ave &amp; Metropolitan Ave</td>\n",
       "      <td>275</td>\n",
       "    </tr>\n",
       "    <tr>\n",
       "      <th>59355</th>\n",
       "      <td>Pershing Square North</td>\n",
       "      <td>W 33 St &amp; 7 Ave</td>\n",
       "      <td>268</td>\n",
       "    </tr>\n",
       "    <tr>\n",
       "      <th>61150</th>\n",
       "      <td>Richardson St &amp; N Henry St</td>\n",
       "      <td>Graham Ave &amp; Conselyea St</td>\n",
       "      <td>253</td>\n",
       "    </tr>\n",
       "    <tr>\n",
       "      <th>23293</th>\n",
       "      <td>Cooper Square &amp; E 7 St</td>\n",
       "      <td>E 6 St &amp; Avenue B</td>\n",
       "      <td>246</td>\n",
       "    </tr>\n",
       "  </tbody>\n",
       "</table>\n",
       "</div>"
      ],
      "text/plain": [
       "               Start Station Name              End Station Name  count\n",
       "39126           E 7 St & Avenue A        Cooper Square & E 7 St    439\n",
       "69842             W 21 St & 6 Ave               9 Ave & W 22 St    359\n",
       "32365             E 33 St & 2 Ave               W 33 St & 7 Ave    313\n",
       "47103  Greenwich Ave & Charles St    Greenwich Ave & Charles St    303\n",
       "59205       Pershing Square North          E 24 St & Park Ave S    300\n",
       "59150       Pershing Square North            Broadway & W 32 St    292\n",
       "57250        N 6 St & Bedford Ave  Wythe Ave & Metropolitan Ave    275\n",
       "59355       Pershing Square North               W 33 St & 7 Ave    268\n",
       "61150  Richardson St & N Henry St     Graham Ave & Conselyea St    253\n",
       "23293      Cooper Square & E 7 St             E 6 St & Avenue B    246"
      ]
     },
     "execution_count": 39,
     "metadata": {},
     "output_type": "execute_result"
    }
   ],
   "source": [
    "route_count = df.groupby([\"Start Station Name\",\"End Station Name\"]).size().reset_index(name='count')\n",
    "route_count[\"count\"] = pd.to_numeric(route_count[\"count\"])\n",
    "top10_route_count = route_count.nlargest(10,'count')\n",
    "top10_route_count"
   ]
  },
  {
   "cell_type": "markdown",
   "id": "f6add23a-1329-44d6-af43-fa90b7a7fd82",
   "metadata": {},
   "source": [
    "# Research Questions"
   ]
  },
  {
   "cell_type": "markdown",
   "id": "e6730c9f-e258-44f2-a01b-50ca110e45eb",
   "metadata": {},
   "source": [
    "- As we have unbalanced class for the User Type and Gender, we may want to analyze more on the relation between users who are customers and their impact on the trip duration and their bike usage, as we have less data for that in our original dataset, this is the thing to be explored more, similar is for the Gender, we may want to analyze more on the impact of women travllers on the trip duration and their bike usage, as we have less data for that in our original dataset, this again is the thing to be explored more\n",
    "\n",
    "- "
   ]
  },
  {
   "cell_type": "markdown",
   "id": "e4faf3e1-2393-471d-8f31-ea6f1f5bfdeb",
   "metadata": {},
   "source": [
    "# Data analysis & visualizations"
   ]
  },
  {
   "cell_type": "markdown",
   "id": "476f09bb-c013-4bff-bb6d-47a253b9061e",
   "metadata": {},
   "source": [
    "Where do Citi Bikers ride? When do they ride? How far do they go? Which stations are most popular? What days of the week are most rides taken on? "
   ]
  },
  {
   "cell_type": "code",
   "execution_count": 40,
   "id": "8ed1dfcf-6ee2-46c4-954b-e376c2429492",
   "metadata": {},
   "outputs": [
    {
     "data": {
      "application/vnd.vegalite.v4+json": {
       "$schema": "https://vega.github.io/schema/vega-lite/v4.17.0.json",
       "config": {
        "view": {
         "continuousHeight": 300,
         "continuousWidth": 400
        }
       },
       "data": {
        "url": "http://localhost:20538/7ab0c9ac7ad8216dad3c02180cfd887f.json"
       },
       "encoding": {
        "color": {
         "field": "day_part",
         "type": "nominal"
        },
        "x": {
         "field": "Start weekday",
         "sort": [
          "Monday",
          "Tuesday",
          "Wednesday",
          "Thursday",
          "Friday",
          "Saturday",
          "Sunday"
         ],
         "type": "ordinal"
        },
        "y": {
         "aggregate": "count",
         "type": "quantitative"
        }
       },
       "mark": {
        "cornerRadiusTopLeft": 3,
        "cornerRadiusTopRight": 3,
        "type": "bar"
       },
       "title": "The number of trips by weekdays and day parts"
      },
      "image/png": "[encoded data removed]",
      "text/plain": [
       "<VegaLite 4 object>\n",
       "\n",
       "If you see this message, it means the renderer has not been properly enabled\n",
       "for the frontend that you are using. For more information, see\n",
       "https://altair-viz.github.io/user_guide/troubleshooting.html\n"
      ]
     },
     "execution_count": 40,
     "metadata": {},
     "output_type": "execute_result"
    }
   ],
   "source": [
    "# number of user on each weekdays and divided into day parts.\n",
    "days = [\"Monday\", \"Tuesday\", \"Wednesday\", \"Thursday\", \"Friday\", \"Saturday\", \"Sunday\"]\n",
    "alt.Chart(df,title='The number of trips by weekdays and day parts').mark_bar(\n",
    "    cornerRadiusTopLeft=3,\n",
    "    cornerRadiusTopRight=3\n",
    ").encode(\n",
    "    alt.X('Start weekday:O',sort=days),\n",
    "    alt.Y(\"count()\"),\n",
    "    color='day_part:N'\n",
    ")"
   ]
  },
  {
   "cell_type": "markdown",
   "id": "4b77e367-5d33-4da0-9af1-6ffe36eec6c3",
   "metadata": {},
   "source": [
    "Out of all the users in the weekends/weekdays, most of the users are travelling on the bike in the morning on the weekdays and in the afternoon on the weekends. "
   ]
  },
  {
   "cell_type": "code",
   "execution_count": 16,
   "id": "ce4ced08-42a4-4fc9-b575-baf7eb10859f",
   "metadata": {},
   "outputs": [
    {
     "data": {
      "application/vnd.vegalite.v4+json": {
       "$schema": "https://vega.github.io/schema/vega-lite/v4.17.0.json",
       "config": {
        "view": {
         "continuousHeight": 300,
         "continuousWidth": 400
        }
       },
       "data": {
        "url": "http://localhost:20538/7ab0c9ac7ad8216dad3c02180cfd887f.json"
       },
       "encoding": {
        "color": {
         "field": "day of week type",
         "type": "nominal"
        },
        "order": {
         "field": "hour",
         "type": "quantitative"
        },
        "x": {
         "field": "hour",
         "scale": {
          "zero": false
         },
         "type": "quantitative"
        },
        "y": {
         "aggregate": "count",
         "scale": {
          "zero": false
         },
         "type": "quantitative"
        }
       },
       "mark": {
        "point": true,
        "type": "line"
       },
       "title": "The hourly acitvites by weekday and weekend"
      },
      "image/png": "[encoded data removed]",
      "text/plain": [
       "<VegaLite 4 object>\n",
       "\n",
       "If you see this message, it means the renderer has not been properly enabled\n",
       "for the frontend that you are using. For more information, see\n",
       "https://altair-viz.github.io/user_guide/troubleshooting.html\n"
      ]
     },
     "execution_count": 16,
     "metadata": {},
     "output_type": "execute_result"
    }
   ],
   "source": [
    "alt.Chart(df,title='The hourly acitvites by weekday and weekend').mark_line(point=True).encode(\n",
    "    alt.X('hour', scale=alt.Scale(zero=False)),\n",
    "    alt.Y('count()', scale=alt.Scale(zero=False)),\n",
    "    order='hour',\n",
    "    color= 'day of week type'\n",
    ")"
   ]
  },
  {
   "cell_type": "markdown",
   "id": "38528d49-8080-4b9c-a4df-39d00d9a1264",
   "metadata": {},
   "source": [
    "This plot shows that the users go to work at 8am and back from work at 6pm because there are obviously two peaks during the weekday. On the hand, bike users are normally distribution on the weekend."
   ]
  },
  {
   "cell_type": "code",
   "execution_count": 19,
   "id": "d9e2f5d7-0e34-4371-91ea-8089b8a9e52a",
   "metadata": {},
   "outputs": [
    {
     "data": {
      "application/vnd.vegalite.v4+json": {
       "$schema": "https://vega.github.io/schema/vega-lite/v4.17.0.json",
       "config": {
        "view": {
         "continuousHeight": 300,
         "continuousWidth": 400
        }
       },
       "data": {
        "url": "http://localhost:20538/e47e6924dad36d12996a8a6e54a4e7a4.json"
       },
       "encoding": {
        "x": {
         "field": "sum count",
         "type": "quantitative"
        },
        "y": {
         "field": "Start Station Name",
         "sort": "-x",
         "type": "ordinal"
        }
       },
       "mark": "bar",
       "title": "The top 10 popular stations"
      },
      "image/png": "[encoded data removed]",
      "text/plain": [
       "<VegaLite 4 object>\n",
       "\n",
       "If you see this message, it means the renderer has not been properly enabled\n",
       "for the frontend that you are using. For more information, see\n",
       "https://altair-viz.github.io/user_guide/troubleshooting.html\n"
      ]
     },
     "execution_count": 19,
     "metadata": {},
     "output_type": "execute_result"
    }
   ],
   "source": [
    "alt.Chart(top10_station_count, title=\"The top 10 popular stations\").mark_bar().encode(\n",
    "    alt.X('sum count:Q'),\n",
    "    alt.Y('Start Station Name:O',sort='-x')\n",
    ")"
   ]
  },
  {
   "cell_type": "markdown",
   "id": "ee23c3ed-254f-47f8-8c91-f5c7700ba9bf",
   "metadata": {},
   "source": [
    "Pershing Square North is the most popular station"
   ]
  },
  {
   "cell_type": "code",
   "execution_count": 21,
   "id": "bd5a8010-0940-45e6-a9d2-a4355356fbe2",
   "metadata": {},
   "outputs": [
    {
     "data": {
      "application/vnd.vegalite.v4+json": {
       "$schema": "https://vega.github.io/schema/vega-lite/v4.17.0.json",
       "config": {
        "view": {
         "continuousHeight": 300,
         "continuousWidth": 400
        }
       },
       "data": {
        "url": "http://localhost:20538/7ab0c9ac7ad8216dad3c02180cfd887f.json"
       },
       "encoding": {
        "color": {
         "field": "day of week type",
         "type": "nominal"
        },
        "x": {
         "field": "Age",
         "type": "quantitative"
        },
        "y": {
         "aggregate": "mean",
         "field": "Trip Duration",
         "scale": {
          "zero": false
         },
         "type": "quantitative"
        }
       },
       "mark": {
        "point": true,
        "type": "line"
       },
       "title": "The mean trip duration vs. age based on weekdays and weekend"
      },
      "image/png": "[encoded data removed]",
      "text/plain": [
       "<VegaLite 4 object>\n",
       "\n",
       "If you see this message, it means the renderer has not been properly enabled\n",
       "for the frontend that you are using. For more information, see\n",
       "https://altair-viz.github.io/user_guide/troubleshooting.html\n"
      ]
     },
     "execution_count": 21,
     "metadata": {},
     "output_type": "execute_result"
    }
   ],
   "source": [
    "alt.Chart(df,title='The mean trip duration vs. age based on weekdays and weekend').mark_line(point=True).encode(\n",
    "    alt.X('Age'),\n",
    "    alt.Y('mean(Trip Duration)', scale=alt.Scale(zero=False)),\n",
    "    color= 'day of week type:N'\n",
    ")"
   ]
  },
  {
   "cell_type": "markdown",
   "id": "3f63629f-dc4d-4ed4-be88-471541606170",
   "metadata": {},
   "source": [
    "The retirement age in the US is generally at 66 years, and we can also see from the above the chart that when the person cross 67, the mean duration falls drastically on weekdays because they don't need to ride for their jobs."
   ]
  },
  {
   "cell_type": "markdown",
   "id": "46a76211-82e3-42b2-a2ad-277e7f9aa723",
   "metadata": {},
   "source": [
    "# Summary and conclusions"
   ]
  },
  {
   "cell_type": "markdown",
   "id": "5b03859a-ccdc-4ca3-8731-3cb607cb84ee",
   "metadata": {},
   "source": [
    "- There were initially outliers,nan values in the Dataset\n",
    "- There were unbalanced classes/groups of User Type and Gender in the Dataset\n",
    "- Out of all the users in the weekends/weekdays, most of the users are travelling on the bike in the morning on the weekdays and in the afternoon on the weekends\n",
    "- Older Age Group people tend to use bike less on the weekdays especially after the retirement\n",
    "- On the weekday, maximum bike usage is around 8 am in the morning and 6 pm in the evening"
   ]
  },
  {
   "cell_type": "code",
   "execution_count": null,
   "id": "eae8fd76-c61c-4d53-a44d-dff635c53d47",
   "metadata": {},
   "outputs": [],
   "source": []
  }
 ],
 "metadata": {
  "kernelspec": {
   "display_name": "Python 3 (ipykernel)",
   "language": "python",
   "name": "python3"
  },
  "language_info": {
   "codemirror_mode": {
    "name": "ipython",
    "version": 3
   },
   "file_extension": ".py",
   "mimetype": "text/x-python",
   "name": "python",
   "nbconvert_exporter": "python",
   "pygments_lexer": "ipython3",
   "version": "3.9.5"
  }
 },
 "nbformat": 4,
 "nbformat_minor": 5
}
